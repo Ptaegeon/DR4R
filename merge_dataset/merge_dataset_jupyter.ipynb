{
 "cells": [
  {
   "cell_type": "code",
   "execution_count": 1,
   "metadata": {},
   "outputs": [
    {
     "name": "stderr",
     "output_type": "stream",
     "text": [
      "/home/dr4r/.local/lib/python3.10/site-packages/tqdm/auto.py:21: TqdmWarning: IProgress not found. Please update jupyter and ipywidgets. See https://ipywidgets.readthedocs.io/en/stable/user_install.html\n",
      "  from .autonotebook import tqdm as notebook_tqdm\n",
      "Fetching 276 files: 100%|██████████| 276/276 [00:09<00:00, 28.43it/s]\n",
      "Fetching 156 files: 100%|██████████| 156/156 [00:06<00:00, 25.02it/s]\n"
     ]
    },
    {
     "data": {
      "text/plain": [
       "'/home/dr4r/disk/lerobot_dataset/merge_dataset/so100_test_0412'"
      ]
     },
     "execution_count": 1,
     "metadata": {},
     "output_type": "execute_result"
    }
   ],
   "source": [
    "from huggingface_hub import login, snapshot_download\n",
    "login(token=\"---\") # token 입력할것\n",
    "snapshot_download(repo_id=\"xhaka3456/so100_test_0510\", repo_type=\"dataset\", local_dir=\"/home/dr4r/disk/lerobot_dataset/merge_dataset/so100_test_0510\")\n",
    "snapshot_download(repo_id=\"xhaka3456/so100_test_0412\", repo_type=\"dataset\", local_dir=\"/home/dr4r/disk/lerobot_dataset/merge_dataset/so100_test_0412\")"
   ]
  },
  {
   "cell_type": "code",
   "execution_count": null,
   "metadata": {},
   "outputs": [],
   "source": [
    "# merge code를 터미널에서 실행\n",
    "python merge_datasets.py \\\n",
    "  --sources /home/dr4r/disk/lerobot_dataset/merge_dataset/so100_test_0510 /home/dr4r/disk/lerobot_dataset/merge_dataset/so100_test_0412 \\\n",
    "  --output /home/dr4r/disk/lerobot_dataset/merge_dataset/integrated_dataset \\\n",
    "  --max_dim 6 \\\n",
    "  --fps 30"
   ]
  },
  {
   "cell_type": "code",
   "execution_count": 4,
   "metadata": {},
   "outputs": [
    {
     "name": "stdout",
     "output_type": "stream",
     "text": [
      "모든 파일이 xhaka3456/Pick_Place에 성공적으로 업로드되었습니다.\n"
     ]
    }
   ],
   "source": [
    "from huggingface_hub import HfApi\n",
    "\n",
    "api = HfApi()\n",
    "repo_id = \"xhaka3456/Pick_Place\"\n",
    "\n",
    "# 레포지토리 생성\n",
    "\n",
    "try:\n",
    "    api.create_repo(\n",
    "        repo_id=repo_id,\n",
    "        repo_type=\"dataset\",\n",
    "        private=False  # 공개 레포지토리로 설정 (필요 시 True로 변경)\n",
    "    )\n",
    "    print(f\"레포지토리 {repo_id}가 성공적으로 생성되었습니다.\")\n",
    "except Exception as e:\n",
    "    print(f\"레포지토리 생성 중 오류 발생: {e}\")\n",
    "    print(f\"레포지토리 {repo_id}가 이미 존재할 수 있습니다. 계속 진행합니다.\")\n",
    "    \n",
    "# data, videos, meta 폴더 업로드\n",
    "api.upload_folder(\n",
    "    repo_id=repo_id,\n",
    "    folder_path=\"/home/dr4r/disk/lerobot_dataset/merge_dataset/integrated_dataset/data\",\n",
    "    path_in_repo=\"data\",\n",
    "    repo_type=\"dataset\"\n",
    ")\n",
    "api.upload_folder(\n",
    "    repo_id=repo_id,\n",
    "    folder_path=\"/home/dr4r/disk/lerobot_dataset/merge_dataset/integrated_dataset/videos\",\n",
    "    path_in_repo=\"videos\",\n",
    "    repo_type=\"dataset\"\n",
    ")\n",
    "api.upload_folder(\n",
    "    repo_id=repo_id,\n",
    "    folder_path=\"/home/dr4r/disk/lerobot_dataset/merge_dataset/integrated_dataset/meta\",\n",
    "    path_in_repo=\"meta\",\n",
    "    repo_type=\"dataset\"\n",
    ")\n",
    "\n",
    "# README 파일을 새로 생성하고,\n",
    "# merge된 후 생성되는 meta/info.json 파일의 정보를 README에 추가할것 \n",
    "\n",
    "# README.md 추가\n",
    "readme_path = \"/home/dr4r/disk/lerobot_dataset/merge_dataset/integrated_dataset/README.md\"\n",
    "with open(readme_path, \"a\") as f:\n",
    "    f.write(\"# Pick_Place_Integrated\\n\\n\"\n",
    "            \"병합된 LeRobot 데이터셋 (so100_test_0510 + so100_test_0412).\\n\"\n",
    "            \"포맷: observation.images.cam_high (VideoFrame), observation.state (float32 list), action (float32 list), timestamp (float32)\")\n",
    "api.upload_file(\n",
    "    path_or_fileobj=readme_path,\n",
    "    path_in_repo=\"README.md\",\n",
    "    repo_id=repo_id,\n",
    "    repo_type=\"dataset\"\n",
    ")\n",
    "\n",
    "print(f\"모든 파일이 {repo_id}에 성공적으로 업로드되었습니다.\")"
   ]
  },
  {
   "cell_type": "code",
   "execution_count": 2,
   "metadata": {},
   "outputs": [],
   "source": [
    "from huggingface_hub import HfApi                             \n",
    "\n",
    "# tag를 업데이트 안하면 오류 발생하므로 아래와 같이 추가 \n",
    "# 실제 버전은 readme 또는 info.json 에서 확인할것\n",
    "\n",
    "hub_api = HfApi()\n",
    "hub_api.create_tag(\"xhaka3456/Pick_Place\", tag=\"v2.0\", repo_type=\"dataset\")"
   ]
  }
 ],
 "metadata": {
  "kernelspec": {
   "display_name": "Python 3",
   "language": "python",
   "name": "python3"
  },
  "language_info": {
   "codemirror_mode": {
    "name": "ipython",
    "version": 3
   },
   "file_extension": ".py",
   "mimetype": "text/x-python",
   "name": "python",
   "nbconvert_exporter": "python",
   "pygments_lexer": "ipython3",
   "version": "3.10.13"
  }
 },
 "nbformat": 4,
 "nbformat_minor": 2
}
